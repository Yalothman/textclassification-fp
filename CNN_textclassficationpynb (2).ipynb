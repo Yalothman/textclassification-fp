{
  "nbformat": 4,
  "nbformat_minor": 0,
  "metadata": {
    "colab": {
      "provenance": []
    },
    "kernelspec": {
      "name": "python3",
      "display_name": "Python 3"
    },
    "language_info": {
      "name": "python"
    }
  },
  "cells": [
    {
      "cell_type": "code",
      "execution_count": null,
      "metadata": {
        "colab": {
          "base_uri": "https://localhost:8080/",
          "height": 71
        },
        "id": "9zcnzv8Srjrl",
        "outputId": "1d31b1c1-0d69-4cf9-ab8a-8945bf3fbdb6"
      },
      "outputs": [
        {
          "output_type": "display_data",
          "data": {
            "text/plain": [
              "<IPython.core.display.HTML object>"
            ],
            "text/html": [
              "\n",
              "     <input type=\"file\" id=\"files-644bb94a-c002-4d39-b8d8-4005791d2ce2\" name=\"files[]\" multiple disabled\n",
              "        style=\"border:none\" />\n",
              "     <output id=\"result-644bb94a-c002-4d39-b8d8-4005791d2ce2\">\n",
              "      Upload widget is only available when the cell has been executed in the\n",
              "      current browser session. Please rerun this cell to enable.\n",
              "      </output>\n",
              "      <script>// Copyright 2017 Google LLC\n",
              "//\n",
              "// Licensed under the Apache License, Version 2.0 (the \"License\");\n",
              "// you may not use this file except in compliance with the License.\n",
              "// You may obtain a copy of the License at\n",
              "//\n",
              "//      http://www.apache.org/licenses/LICENSE-2.0\n",
              "//\n",
              "// Unless required by applicable law or agreed to in writing, software\n",
              "// distributed under the License is distributed on an \"AS IS\" BASIS,\n",
              "// WITHOUT WARRANTIES OR CONDITIONS OF ANY KIND, either express or implied.\n",
              "// See the License for the specific language governing permissions and\n",
              "// limitations under the License.\n",
              "\n",
              "/**\n",
              " * @fileoverview Helpers for google.colab Python module.\n",
              " */\n",
              "(function(scope) {\n",
              "function span(text, styleAttributes = {}) {\n",
              "  const element = document.createElement('span');\n",
              "  element.textContent = text;\n",
              "  for (const key of Object.keys(styleAttributes)) {\n",
              "    element.style[key] = styleAttributes[key];\n",
              "  }\n",
              "  return element;\n",
              "}\n",
              "\n",
              "// Max number of bytes which will be uploaded at a time.\n",
              "const MAX_PAYLOAD_SIZE = 100 * 1024;\n",
              "\n",
              "function _uploadFiles(inputId, outputId) {\n",
              "  const steps = uploadFilesStep(inputId, outputId);\n",
              "  const outputElement = document.getElementById(outputId);\n",
              "  // Cache steps on the outputElement to make it available for the next call\n",
              "  // to uploadFilesContinue from Python.\n",
              "  outputElement.steps = steps;\n",
              "\n",
              "  return _uploadFilesContinue(outputId);\n",
              "}\n",
              "\n",
              "// This is roughly an async generator (not supported in the browser yet),\n",
              "// where there are multiple asynchronous steps and the Python side is going\n",
              "// to poll for completion of each step.\n",
              "// This uses a Promise to block the python side on completion of each step,\n",
              "// then passes the result of the previous step as the input to the next step.\n",
              "function _uploadFilesContinue(outputId) {\n",
              "  const outputElement = document.getElementById(outputId);\n",
              "  const steps = outputElement.steps;\n",
              "\n",
              "  const next = steps.next(outputElement.lastPromiseValue);\n",
              "  return Promise.resolve(next.value.promise).then((value) => {\n",
              "    // Cache the last promise value to make it available to the next\n",
              "    // step of the generator.\n",
              "    outputElement.lastPromiseValue = value;\n",
              "    return next.value.response;\n",
              "  });\n",
              "}\n",
              "\n",
              "/**\n",
              " * Generator function which is called between each async step of the upload\n",
              " * process.\n",
              " * @param {string} inputId Element ID of the input file picker element.\n",
              " * @param {string} outputId Element ID of the output display.\n",
              " * @return {!Iterable<!Object>} Iterable of next steps.\n",
              " */\n",
              "function* uploadFilesStep(inputId, outputId) {\n",
              "  const inputElement = document.getElementById(inputId);\n",
              "  inputElement.disabled = false;\n",
              "\n",
              "  const outputElement = document.getElementById(outputId);\n",
              "  outputElement.innerHTML = '';\n",
              "\n",
              "  const pickedPromise = new Promise((resolve) => {\n",
              "    inputElement.addEventListener('change', (e) => {\n",
              "      resolve(e.target.files);\n",
              "    });\n",
              "  });\n",
              "\n",
              "  const cancel = document.createElement('button');\n",
              "  inputElement.parentElement.appendChild(cancel);\n",
              "  cancel.textContent = 'Cancel upload';\n",
              "  const cancelPromise = new Promise((resolve) => {\n",
              "    cancel.onclick = () => {\n",
              "      resolve(null);\n",
              "    };\n",
              "  });\n",
              "\n",
              "  // Wait for the user to pick the files.\n",
              "  const files = yield {\n",
              "    promise: Promise.race([pickedPromise, cancelPromise]),\n",
              "    response: {\n",
              "      action: 'starting',\n",
              "    }\n",
              "  };\n",
              "\n",
              "  cancel.remove();\n",
              "\n",
              "  // Disable the input element since further picks are not allowed.\n",
              "  inputElement.disabled = true;\n",
              "\n",
              "  if (!files) {\n",
              "    return {\n",
              "      response: {\n",
              "        action: 'complete',\n",
              "      }\n",
              "    };\n",
              "  }\n",
              "\n",
              "  for (const file of files) {\n",
              "    const li = document.createElement('li');\n",
              "    li.append(span(file.name, {fontWeight: 'bold'}));\n",
              "    li.append(span(\n",
              "        `(${file.type || 'n/a'}) - ${file.size} bytes, ` +\n",
              "        `last modified: ${\n",
              "            file.lastModifiedDate ? file.lastModifiedDate.toLocaleDateString() :\n",
              "                                    'n/a'} - `));\n",
              "    const percent = span('0% done');\n",
              "    li.appendChild(percent);\n",
              "\n",
              "    outputElement.appendChild(li);\n",
              "\n",
              "    const fileDataPromise = new Promise((resolve) => {\n",
              "      const reader = new FileReader();\n",
              "      reader.onload = (e) => {\n",
              "        resolve(e.target.result);\n",
              "      };\n",
              "      reader.readAsArrayBuffer(file);\n",
              "    });\n",
              "    // Wait for the data to be ready.\n",
              "    let fileData = yield {\n",
              "      promise: fileDataPromise,\n",
              "      response: {\n",
              "        action: 'continue',\n",
              "      }\n",
              "    };\n",
              "\n",
              "    // Use a chunked sending to avoid message size limits. See b/62115660.\n",
              "    let position = 0;\n",
              "    do {\n",
              "      const length = Math.min(fileData.byteLength - position, MAX_PAYLOAD_SIZE);\n",
              "      const chunk = new Uint8Array(fileData, position, length);\n",
              "      position += length;\n",
              "\n",
              "      const base64 = btoa(String.fromCharCode.apply(null, chunk));\n",
              "      yield {\n",
              "        response: {\n",
              "          action: 'append',\n",
              "          file: file.name,\n",
              "          data: base64,\n",
              "        },\n",
              "      };\n",
              "\n",
              "      let percentDone = fileData.byteLength === 0 ?\n",
              "          100 :\n",
              "          Math.round((position / fileData.byteLength) * 100);\n",
              "      percent.textContent = `${percentDone}% done`;\n",
              "\n",
              "    } while (position < fileData.byteLength);\n",
              "  }\n",
              "\n",
              "  // All done.\n",
              "  yield {\n",
              "    response: {\n",
              "      action: 'complete',\n",
              "    }\n",
              "  };\n",
              "}\n",
              "\n",
              "scope.google = scope.google || {};\n",
              "scope.google.colab = scope.google.colab || {};\n",
              "scope.google.colab._files = {\n",
              "  _uploadFiles,\n",
              "  _uploadFilesContinue,\n",
              "};\n",
              "})(self);\n",
              "</script> "
            ]
          },
          "metadata": {}
        },
        {
          "output_type": "stream",
          "name": "stdout",
          "text": [
            "Saving RCA_V3.csv to RCA_V3.csv\n"
          ]
        }
      ],
      "source": [
        "# Reading the data\n",
        "from google.colab import files\n",
        "uploaded = files.upload()"
      ]
    },
    {
      "cell_type": "code",
      "source": [
        "import pandas as pd\n",
        "import numpy as np\n",
        "\n",
        "# Drop unnecessary columns and rename cols\n",
        "# Assuming we need only 'text' and 'label' columns\n",
        "data = (pd.read_csv('RCA_V3.csv',sep=None,engine='python', usecols = ['RCA_Main_Root_Cause','RCA Defect Domain'])).dropna(how='all')\n",
        "data.columns = ['text', 'label']\n",
        "data.head()\n",
        "print(data)\n",
        "\n",
        "# Check for missing values\n",
        "missing_values = data.isnull().sum()\n",
        "print(\"Missing values:\\n\", missing_values)\n",
        "\n",
        "# Check data shape\n",
        "print(\"Data shape:\", data.shape)\n"
      ],
      "metadata": {
        "colab": {
          "base_uri": "https://localhost:8080/"
        },
        "id": "Q7U58A3huoBR",
        "outputId": "fae2deb0-642d-4051-ccc1-fe28aee410c7"
      },
      "execution_count": null,
      "outputs": [
        {
          "output_type": "stream",
          "name": "stdout",
          "text": [
            "                                                    text        label\n",
            "0      Parking position handling was not well address...       Design\n",
            "1                       The SDS of WH was not up-to-date       Design\n",
            "2                 Direct use of a trace definition file.  Integration\n",
            "3                 Patch too old, not traceable any more.  Integration\n",
            "4      Clearmake does not remove already build obsole...  Integration\n",
            "...                                                  ...          ...\n",
            "10735                                         SW design.       Design\n",
            "10736                                         SW design.       Design\n",
            "10737  A DDF timeout is not reported by the CN facili...  Realization\n",
            "10738  Automated regression does not capture the impa...       Design\n",
            "10739  The combination of file sizes, number of scann...        Other\n",
            "\n",
            "[10521 rows x 2 columns]\n",
            "Missing values:\n",
            " text     316\n",
            "label    264\n",
            "dtype: int64\n",
            "Data shape: (10521, 2)\n"
          ]
        }
      ]
    },
    {
      "cell_type": "code",
      "source": [
        "# check target balance\n",
        "\n",
        "import matplotlib.pyplot as plt\n",
        "\n",
        "value_counts = data['label'].value_counts(normalize=True)\n",
        "\n",
        "ax = value_counts.plot.bar()\n",
        "\n",
        "for p in ax.patches:\n",
        "    ax.annotate(f'{p.get_height()*100:.2f}%', (p.get_x() + p.get_width() / 2., p.get_height()),\n",
        "                ha='center', va='center', xytext=(0, 10), textcoords='offset points')"
      ],
      "metadata": {
        "colab": {
          "base_uri": "https://localhost:8080/",
          "height": 549
        },
        "id": "msIpHx6_72lh",
        "outputId": "14d70dd8-950f-403a-e5d8-401f4bb2fb93"
      },
      "execution_count": null,
      "outputs": [
        {
          "output_type": "display_data",
          "data": {
            "text/plain": [
              "<Figure size 640x480 with 1 Axes>"
            ],
            "image/png": "[encoded data removed]"
          },
          "metadata": {}
        }
      ]
    },
    {
      "cell_type": "code",
      "source": [
        "\n",
        "#Feature Engineering\n",
        "\n",
        "from sklearn.feature_extraction.text import TfidfVectorizer\n",
        "\n",
        "# Preprocess the text data\n",
        "# Remove any missing values\n",
        "data.dropna(subset=['text', 'label'], inplace=True)\n",
        "\n",
        "# Convert text data into TF-IDF features\n",
        "vectorizer = TfidfVectorizer(stop_words='english', max_features=1000)\n",
        "X = vectorizer.fit_transform(data['text'])\n",
        "y = data['label']\n",
        "print(\"Data shape:\", X)\n",
        "print(\"Data shape:\", y)"
      ],
      "metadata": {
        "colab": {
          "base_uri": "https://localhost:8080/"
        },
        "id": "VidMYd6YuoMO",
        "outputId": "6d51223b-bef7-4fa2-a40d-514f6e936c56"
      },
      "execution_count": null,
      "outputs": [
        {
          "output_type": "stream",
          "name": "stdout",
          "text": [
            "Data shape:   (0, 224)\t0.39599535526390967\n",
            "  (0, 374)\t0.5918541660485911\n",
            "  (0, 652)\t0.702065755282464\n",
            "  (1, 982)\t1.0\n",
            "  (2, 324)\t0.48873155702439586\n",
            "  (2, 212)\t0.7132324236539913\n",
            "  (2, 950)\t0.502435045570234\n",
            "  (3, 590)\t0.8526367177897295\n",
            "  (3, 623)\t0.5225041889561816\n",
            "  (4, 883)\t0.5423132630063968\n",
            "  (4, 84)\t0.4745364034725109\n",
            "  (4, 717)\t0.5796371358698067\n",
            "  (4, 253)\t0.38043700827781785\n",
            "  (5, 744)\t0.39138858374665103\n",
            "  (5, 455)\t0.4567402172217944\n",
            "  (5, 865)\t0.4694915872142963\n",
            "  (5, 253)\t0.3865668420709456\n",
            "  (5, 950)\t0.39270175759960557\n",
            "  (5, 224)\t0.33783488009596746\n",
            "  (6, 897)\t0.3954366134902626\n",
            "  (6, 205)\t0.5863466605636641\n",
            "  (6, 886)\t0.5674792096810924\n",
            "  (6, 895)\t0.42165723631513136\n",
            "  (7, 869)\t0.551639737693595\n",
            "  (7, 534)\t0.6345313849744311\n",
            "  :\t:\n",
            "  (9938, 82)\t0.4292510475749038\n",
            "  (9938, 307)\t0.3873457547748635\n",
            "  (9939, 101)\t0.28367794783542216\n",
            "  (9939, 184)\t0.27747174228840343\n",
            "  (9939, 96)\t0.3047341570286495\n",
            "  (9939, 55)\t0.26357305096333994\n",
            "  (9939, 739)\t0.2608615771772493\n",
            "  (9939, 398)\t0.1856328753895375\n",
            "  (9939, 98)\t0.18826213217538731\n",
            "  (9939, 828)\t0.2134349540029817\n",
            "  (9939, 774)\t0.2936344661685038\n",
            "  (9939, 773)\t0.2324748663559059\n",
            "  (9939, 946)\t0.22613227876367287\n",
            "  (9939, 710)\t0.24938200545352426\n",
            "  (9939, 236)\t0.20864593325393477\n",
            "  (9939, 253)\t0.3738551642413704\n",
            "  (9939, 623)\t0.1540895738159372\n",
            "  (9939, 950)\t0.18989417108145434\n",
            "  (9940, 249)\t0.41649475862140917\n",
            "  (9940, 825)\t0.433225489060108\n",
            "  (9940, 33)\t0.42641509329601524\n",
            "  (9940, 584)\t0.3615897202487535\n",
            "  (9940, 721)\t0.36391421287760933\n",
            "  (9940, 137)\t0.3511126360639919\n",
            "  (9940, 324)\t0.2656260464471956\n",
            "Data shape: 0             Design\n",
            "1             Design\n",
            "2        Integration\n",
            "3        Integration\n",
            "4        Integration\n",
            "            ...     \n",
            "10735         Design\n",
            "10736         Design\n",
            "10737    Realization\n",
            "10738         Design\n",
            "10739          Other\n",
            "Name: label, Length: 9941, dtype: object\n"
          ]
        }
      ]
    },
    {
      "cell_type": "code",
      "source": [
        "import numpy as np\n",
        "import pandas as pd\n",
        "from sklearn.preprocessing import LabelEncoder\n",
        "from tensorflow.keras.preprocessing.text import Tokenizer\n",
        "from tensorflow.keras.preprocessing.sequence import pad_sequences\n",
        "from tensorflow.keras.models import Sequential\n",
        "from tensorflow.keras.layers import Embedding, Conv1D, GlobalMaxPooling1D, Dense\n",
        "from sklearn.model_selection import train_test_split\n",
        "import shap\n",
        "import matplotlib.pyplot as plt\n",
        "\n",
        "# Compile the model\n",
        "model.compile(optimizer='adam', loss='binary_crossentropy', metrics=['accuracy'])\n",
        "\n",
        "# Split the dataset into training and testing sets\n",
        "X_train, X_test, y_train, y_test = train_test_split(padded_sequences, labels, test_size=0.2, random_state=42)\n",
        "\n",
        "# Train the model\n",
        "history = model.fit(X_train, y_train, epochs=10, batch_size=32, validation_data=(X_test, y_test))\n",
        "\n",
        "# Evaluate the model\n",
        "loss, accuracy = model.evaluate(X_test, y_test)\n",
        "print(f'Accuracy: {accuracy}')\n",
        "\n",
        "# Use a small sample for SHAP explanations to save time and resources\n",
        "sample_size = 1000\n",
        "X_sample = X_test[:sample_size]\n",
        "y_sample = y_test[:sample_size]\n",
        "\n",
        "# Create an explainer for the model using KernelExplainer\n",
        "def predict_fn(X):\n",
        "    return model.predict(X).flatten()\n",
        "\n",
        "background = X_train[:100]\n",
        "explainer = shap.KernelExplainer(predict_fn, background)\n",
        "shap_values = explainer.shap_values(X_sample, nsamples=100)\n",
        "\n",
        "# Get feature names correctly\n",
        "feature_names = [tokenizer.index_word.get(i, f'word_{i}') for i in range(1, len(tokenizer.index_word) + 1)]\n",
        "\n",
        "# Summary Plot\n",
        "shap.summary_plot(shap_values, X_sample, feature_names=feature_names)\n",
        "\n",
        "# Dependence Plot for a specific feature\n",
        "feature_index = 7  # Replace with the feature index you're interested in\n",
        "shap.dependence_plot(feature_index, shap_values, X_sample, feature_names=feature_names)\n",
        "\n",
        "# Force Plot for a single prediction\n",
        "shap.force_plot(explainer.expected_value, shap_values[0], X_sample[0], feature_names=feature_names)\n",
        "\n"
      ],
      "metadata": {
        "id": "Whh3SsGN-9p2",
        "colab": {
          "base_uri": "https://localhost:8080/",
          "height": 384
        },
        "outputId": "1ee3838b-e347-4610-9ff7-8f2ac1e167e6"
      },
      "execution_count": null,
      "outputs": [
        {
          "output_type": "error",
          "ename": "ModuleNotFoundError",
          "evalue": "No module named 'shap'",
          "traceback": [
            "\u001b[0;31m---------------------------------------------------------------------------\u001b[0m",
            "\u001b[0;31mModuleNotFoundError\u001b[0m                       Traceback (most recent call last)",
            "\u001b[0;32m<ipython-input-5-cfb6f48d3695>\u001b[0m in \u001b[0;36m<cell line: 9>\u001b[0;34m()\u001b[0m\n\u001b[1;32m      7\u001b[0m \u001b[0;32mfrom\u001b[0m \u001b[0mtensorflow\u001b[0m\u001b[0;34m.\u001b[0m\u001b[0mkeras\u001b[0m\u001b[0;34m.\u001b[0m\u001b[0mlayers\u001b[0m \u001b[0;32mimport\u001b[0m \u001b[0mEmbedding\u001b[0m\u001b[0;34m,\u001b[0m \u001b[0mConv1D\u001b[0m\u001b[0;34m,\u001b[0m \u001b[0mGlobalMaxPooling1D\u001b[0m\u001b[0;34m,\u001b[0m \u001b[0mDense\u001b[0m\u001b[0;34m\u001b[0m\u001b[0;34m\u001b[0m\u001b[0m\n\u001b[1;32m      8\u001b[0m \u001b[0;32mfrom\u001b[0m \u001b[0msklearn\u001b[0m\u001b[0;34m.\u001b[0m\u001b[0mmodel_selection\u001b[0m \u001b[0;32mimport\u001b[0m \u001b[0mtrain_test_split\u001b[0m\u001b[0;34m\u001b[0m\u001b[0;34m\u001b[0m\u001b[0m\n\u001b[0;32m----> 9\u001b[0;31m \u001b[0;32mimport\u001b[0m \u001b[0mshap\u001b[0m\u001b[0;34m\u001b[0m\u001b[0;34m\u001b[0m\u001b[0m\n\u001b[0m\u001b[1;32m     10\u001b[0m \u001b[0;32mimport\u001b[0m \u001b[0mmatplotlib\u001b[0m\u001b[0;34m.\u001b[0m\u001b[0mpyplot\u001b[0m \u001b[0;32mas\u001b[0m \u001b[0mplt\u001b[0m\u001b[0;34m\u001b[0m\u001b[0;34m\u001b[0m\u001b[0m\n\u001b[1;32m     11\u001b[0m \u001b[0;34m\u001b[0m\u001b[0m\n",
            "\u001b[0;31mModuleNotFoundError\u001b[0m: No module named 'shap'",
            "",
            "\u001b[0;31m---------------------------------------------------------------------------\u001b[0;32m\nNOTE: If your import is failing due to a missing package, you can\nmanually install dependencies using either !pip or !apt.\n\nTo view examples of installing some common dependencies, click the\n\"Open Examples\" button below.\n\u001b[0;31m---------------------------------------------------------------------------\u001b[0m\n"
          ],
          "errorDetails": {
            "actions": [
              {
                "action": "open_url",
                "actionText": "Open Examples",
                "url": "/notebooks/snippets/importing_libraries.ipynb"
              }
            ]
          }
        }
      ]
    },
    {
      "cell_type": "code",
      "source": [
        "#Model Building\n",
        "from sklearn.model_selection import train_test_split\n",
        "from sklearn.linear_model import LogisticRegression\n",
        "from sklearn.metrics import accuracy_score, classification_report\n",
        "\n",
        "# Split the dataset into training and testing sets\n",
        "X_train, X_test, y_train, y_test = train_test_split(X, y, test_size=0.2, random_state=42)\n",
        "\n",
        "# Train a Logistic Regression model\n",
        "model = LogisticRegression(max_iter=1000)\n",
        "model.fit(X_train, y_train)"
      ],
      "metadata": {
        "id": "495QL-EbwqMe"
      },
      "execution_count": null,
      "outputs": []
    },
    {
      "cell_type": "code",
      "source": [
        "# Create Feature and Label sets\n",
        "from sklearn.model_selection import train_test_split\n",
        "import pandas as pd\n",
        "from sklearn.model_selection import train_test_split\n",
        "from sklearn.feature_extraction.text import CountVectorizer\n",
        "from sklearn.linear_model import LogisticRegression\n",
        "from sklearn.preprocessing import LabelEncoder\n",
        "from sklearn.metrics import classification_report\n",
        "\n",
        "df = pd.DataFrame(data)\n",
        "df = df.dropna(subset=['label'])\n",
        "\n",
        "data.reset_index(drop=True, inplace=True)\n",
        "# Encode labels to integers\n",
        "label_encoder = LabelEncoder()\n",
        "df['label_encoded'] = label_encoder.fit_transform(df['label'])\n",
        "\n",
        "X = df['text']\n",
        "Y = df['label_encoded']\n",
        "\n",
        "# Train-test split (67% train - 33% test)\n",
        "X_train, X_test, y_train, y_test = train_test_split(X, Y, test_size=0.33, random_state=123)\n",
        "\n",
        "\n",
        "print('Training Data :', X_train.shape)\n",
        "print('Testing Data : ', X_test.shape)\n"
      ],
      "metadata": {
        "id": "sEp7zV_U8DAE"
      },
      "execution_count": null,
      "outputs": []
    },
    {
      "cell_type": "code",
      "source": [],
      "metadata": {
        "id": "MUrMn4ly8cm9"
      },
      "execution_count": null,
      "outputs": []
    },
    {
      "cell_type": "code",
      "source": [
        "#Model Evaluation\n",
        "# Predict the labels for the test set\n",
        "y_pred = model.predict(X_test)\n",
        "\n",
        "# Evaluate the model\n",
        "accuracy = accuracy_score(y_test, y_pred)\n",
        "report = classification_report(y_test, y_pred)\n",
        "\n",
        "print(f'Accuracy: {accuracy}')\n",
        "print(f'Classification Report:\\n{report}')\n"
      ],
      "metadata": {
        "id": "Sh5tle4qwqI9"
      },
      "execution_count": null,
      "outputs": []
    },
    {
      "cell_type": "code",
      "source": [
        "#Deployment\n",
        "import joblib\n",
        "\n",
        "# Save the model\n",
        "joblib.dump(model, 'text_classification_model.pkl')\n",
        "joblib.dump(vectorizer, 'tfidf_vectorizer.pkl')\n",
        "\n",
        "# Load the model (for future use)\n",
        "# model = joblib.load('text_classification_model.pkl')\n",
        "# vectorizer = joblib.load('tfidf_vectorizer.pkl')"
      ],
      "metadata": {
        "id": "qks3y9FMxOV-"
      },
      "execution_count": null,
      "outputs": []
    },
    {
      "cell_type": "code",
      "source": [
        "from sklearn.preprocessing import LabelEncoder\n",
        "from tensorflow.keras.preprocessing.text import Tokenizer\n",
        "from tensorflow.keras.preprocessing.sequence import pad_sequences\n",
        "\n",
        "# Prepare text data\n",
        "tokenizer = Tokenizer(num_words=10000, oov_token='<OOV>')\n",
        "tokenizer.fit_on_texts(data['text'])\n",
        "sequences = tokenizer.texts_to_sequences(data['text'])\n",
        "padded_sequences = pad_sequences(sequences, maxlen=100)\n",
        "\n",
        "# Prepare labels\n",
        "label_encoder = LabelEncoder()\n",
        "labels = label_encoder.fit_transform(data['label'])\n"
      ],
      "metadata": {
        "id": "h5DiJTPKxOS1"
      },
      "execution_count": null,
      "outputs": []
    },
    {
      "cell_type": "code",
      "source": [
        "import numpy as np\n",
        "from keras.preprocessing.text import Tokenizer\n",
        "from keras.preprocessing.sequence import pad_sequences\n",
        "from keras.models import Sequential\n",
        "from keras.layers import Embedding, Conv1D, GlobalMaxPooling1D, Dense\n",
        "from keras.utils import to_categorical\n",
        "\n",
        "\n",
        "# Tokenization and padding\n",
        "tokenizer = Tokenizer()\n",
        "tokenizer.fit_on_texts(X)\n",
        "sequences = tokenizer.texts_to_sequences(X)\n",
        "max_len = max(len(seq) for seq in sequences)\n",
        "padded_sequences = pad_sequences(sequences, maxlen=max_len)\n",
        "print(tokenizer.word_index)\n",
        "print(sequences)\n",
        "#print(tokenizer)\n",
        "\n",
        "# Convert labels to one-hot encoding\n",
        "label_dict = {label: i for i, label in enumerate(set(Y))}\n",
        "labels_encoded = [label_dict[label] for label in Y]\n",
        "one_hot_labels = to_categorical(labels_encoded)\n",
        "print(one_hot_labels)"
      ],
      "metadata": {
        "id": "7C-sWHhx8qs8"
      },
      "execution_count": null,
      "outputs": []
    },
    {
      "cell_type": "code",
      "source": [
        "# Model Building\n",
        "# Build and compile a CNN model for text classification.\n",
        "from tensorflow.keras.models import Sequential\n",
        "from tensorflow.keras.layers import Embedding, Conv1D, GlobalMaxPooling1D, Dense\n",
        "\n",
        "# Build the CNN model\n",
        "model = Sequential([\n",
        "    Embedding(input_dim=10000, output_dim=128, input_length=100),\n",
        "    Conv1D(filters=128, kernel_size=5, activation='relu'),\n",
        "    GlobalMaxPooling1D(),\n",
        "    Dense(units=10, activation='relu'),\n",
        "    Dense(units=1, activation='sigmoid')  # Use 'softmax' and adjust units for multi-class classification\n",
        "])\n",
        "\n",
        "# Compile the model\n",
        "model.compile(optimizer='adam', loss='binary_crossentropy', metrics=['accuracy'])\n"
      ],
      "metadata": {
        "id": "SCbIVzHExOQj"
      },
      "execution_count": null,
      "outputs": []
    },
    {
      "cell_type": "code",
      "source": [
        "from sklearn.datasets import make_classification\n",
        "from shap import Explainer, Explanation, waterfall_plot\n",
        "from sklearn.ensemble import RandomForestClassifier\n",
        "from sklearn.model_selection import train_test_split\n",
        "\n",
        "X, y = make_classification(1000, 100, n_informative=9, n_classes=10)\n",
        "X_train, X_test, y_train, y_test = train_test_split(X, y, train_size=.75, random_state=42)\n",
        "model = RandomForestClassifier()\n",
        "model.fit(X_train, y_train)\n",
        "\n",
        "explainer = Explainer(model)\n",
        "sv = explainer(X_train)\n",
        "feature_names = [f\"Feature_{i}\" for i in range(X_train.shape[1])]  # Adjust the format of feature names if needed\n",
        "\n",
        "exp = Explanation(sv[:,:,6], sv.base_values[:,6], X_train, feature_names=feature_names)\n",
        "idx = 7 # datapoint to explain\n",
        "\n",
        "print(\"Length of feature_names:\", len(feature_names))\n",
        "print(\"Length of shap_values:\", len(sv))\n",
        "print(\"Length of exp:\", len(exp))\n",
        "print(\"Shape of sv:\", sv.shape)\n",
        "\n",
        "# Ensure idx is within bounds\n",
        "if idx < len(exp):\n",
        "    waterfall_plot(exp[idx])\n",
        "else:\n",
        "    print(\"Index out of range.\")"
      ],
      "metadata": {
        "id": "bVNXbxVy89Gl"
      },
      "execution_count": null,
      "outputs": []
    },
    {
      "cell_type": "code",
      "source": [
        "#Model Training\n",
        "#Train the CNN model.\n",
        "from sklearn.model_selection import train_test_split\n",
        "\n",
        "# Split the dataset into training and testing sets\n",
        "X_train, X_test, y_train, y_test = train_test_split(padded_sequences, labels, test_size=0.2, random_state=42)\n",
        "\n",
        "# Train the model\n",
        "history = model.fit(X_train, y_train, epochs=10, batch_size=32, validation_data=(X_test, y_test))"
      ],
      "metadata": {
        "id": "D-E5A1I5yumG"
      },
      "execution_count": null,
      "outputs": []
    },
    {
      "cell_type": "code",
      "source": [
        "#Model Evaluation\n",
        "#Evaluate the trained CNN model.\n",
        "loss, accuracy = model.evaluate(X_test, y_test)\n",
        "print(f'Accuracy: {accuracy}')"
      ],
      "metadata": {
        "id": "J0wfDK8Syujm"
      },
      "execution_count": null,
      "outputs": []
    },
    {
      "cell_type": "code",
      "source": [
        "pip install pandas scikit-learn tensorflow shap\n"
      ],
      "metadata": {
        "id": "bETyE_LV0AC9"
      },
      "execution_count": null,
      "outputs": []
    },
    {
      "cell_type": "code",
      "source": [
        "pip install --upgrade shap"
      ],
      "metadata": {
        "id": "NdIlyLHP0Rcm"
      },
      "execution_count": null,
      "outputs": []
    },
    {
      "cell_type": "code",
      "source": [
        "#SHAP Explanation\n",
        "#Use SHAP to explain the CNN model's predictions.\n",
        "import shap\n",
        "\n",
        "# Use a small sample for SHAP explanations to save time and resources\n",
        "sample_size = 100\n",
        "X_sample = X_test[:sample_size]\n",
        "y_sample = y_test[:sample_size]\n",
        "\n",
        "# Create a SHAP explainer\n",
        "explainer = shap.Explainer(model, X_train[:100])  # Use a subset of training data for background\n",
        "shap_values = explainer(X_sample)\n",
        "\n",
        "# Plot SHAP values for a single prediction\n",
        "shap.summary_plot(shap_values, X_sample, feature_names=tokenizer.index_word)"
      ],
      "metadata": {
        "id": "ZlJRPpRzyufo"
      },
      "execution_count": null,
      "outputs": []
    },
    {
      "cell_type": "code",
      "source": [
        "import pandas as pd\n",
        "from sklearn.preprocessing import LabelEncoder\n",
        "from tensorflow.keras.preprocessing.text import Tokenizer\n",
        "from tensorflow.keras.preprocessing.sequence import pad_sequences\n",
        "from tensorflow.keras.models import Sequential\n",
        "from tensorflow.keras.layers import Embedding, Conv1D, GlobalMaxPooling1D, Dense\n",
        "from sklearn.model_selection import train_test_split\n",
        "import tensorflow as tf\n",
        "import shap\n",
        "\n",
        "# Disable eager execution for SHAP compatibility\n",
        "tf.compat.v1.disable_eager_execution()\n",
        "\n",
        "# Use a small sample for SHAP explanations to save time and resources\n",
        "sample_size = 100\n",
        "X_sample = X_test[:sample_size]\n",
        "y_sample = y_test[:sample_size]\n",
        "\n"
      ],
      "metadata": {
        "id": "2zDmTRyX3TAx"
      },
      "execution_count": null,
      "outputs": []
    },
    {
      "cell_type": "code",
      "source": [
        "pip install pandas scikit-learn tensorflow shap"
      ],
      "metadata": {
        "id": "CqdikHuP3S5K"
      },
      "execution_count": null,
      "outputs": []
    },
    {
      "cell_type": "code",
      "source": [
        "# Use a small sample for SHAP explanations to save time and resources\n",
        "sample_size = 100\n",
        "X_sample = X_test[:sample_size]\n",
        "y_sample = y_test[:sample_size]\n",
        "\n",
        "# Create an explainer for the model using KernelExplainer\n",
        "def predict_fn(X):\n",
        "    return model.predict(X).flatten()\n",
        "\n",
        "background = X_train[:100]\n",
        "explainer = shap.KernelExplainer(predict_fn, background)\n",
        "shap_values = explainer.shap_values(X_sample, nsamples=100)\n",
        "\n",
        "# Summary Plot\n",
        "shap.summary_plot(shap_values, X_sample, feature_names=[tokenizer.index_word.get(i, f'word_{i}') for i in range(1, 10001)])\n",
        "\n",
        "# Dependence Plot for a specific feature\n",
        "feature_index = 1  # Replace with the feature index you're interested in\n",
        "shap.dependence_plot(feature_index, shap_values, X_sample, feature_names=[tokenizer.index_word.get(i, f'word_{i}') for i in range(1, 10001)])\n",
        "\n",
        "# Force Plot for a single prediction\n",
        "shap.force_plot(explainer.expected_value, shap_values[0], X_sample[0], feature_names=[tokenizer.index_word.get(i, f'word_{i}') for i in range(1, 10001)])"
      ],
      "metadata": {
        "id": "elQit03C3S0q"
      },
      "execution_count": null,
      "outputs": []
    },
    {
      "cell_type": "code",
      "source": [],
      "metadata": {
        "id": "q_FqaXzJ9vf5"
      },
      "execution_count": null,
      "outputs": []
    },
    {
      "cell_type": "code",
      "source": [
        "import pandas as pd\n",
        "from google.colab import files\n",
        "from sklearn.model_selection import train_test_split\n",
        "from sklearn.preprocessing import LabelEncoder\n",
        "from sklearn.feature_extraction.text import TfidfVectorizer\n",
        "from sklearn.svm import SVC\n",
        "import shap\n",
        "import matplotlib.pyplot as plt\n",
        "\n",
        "# Display the first few rows and column names of the dataset to confirm correct column names\n",
        "print(data.head())\n",
        "print(data.columns)\n",
        "\n",
        "# Correct column names identified from the inspection\n",
        "root_cause_col = 'RCA_Main_Root_Cause'  # Replace with the actual column name\n",
        "defect_domain_col = 'RCA Defect Domain'  # Replace with the actual column name\n",
        "\n",
        "\n",
        "# Convert numpy arrays back to pandas Series\n",
        "X_train = pd.Series(X_train)\n",
        "X_test = pd.Series(X_test)\n",
        "\n",
        "# Convert text data into TF-IDF features\n",
        "vectorizer = TfidfVectorizer(stop_words='english', max_features=10000)\n",
        "X_train_tfidf = vectorizer.fit_transform(X_train)\n",
        "X_test_tfidf = vectorizer.transform(X_test)\n",
        "\n",
        "# Train an SVM classifier\n",
        "svm = SVC(kernel='rbf', probability=True)\n",
        "svm.fit(X_train_tfidf, y_train)\n",
        "\n",
        "# Initialize the JS visualization code for SHAP\n",
        "shap.initjs()\n",
        "\n",
        "# Use Kernel SHAP to explain test set predictions\n",
        "explainer = shap.KernelExplainer(svm.predict_proba, X_train_tfidf, link=\"logit\")\n",
        "shap_values = explainer.shap_values(X_test_tfidf, nsamples=100)\n",
        "\n",
        "# Plot the SHAP values for the first instance\n",
        "shap.force_plot(explainer.expected_value[0], shap_values[0][0,:], X_test_tfidf[0,:], link=\"logit\")\n",
        "plt.show()"
      ],
      "metadata": {
        "id": "PgK98MDu7i5Q"
      },
      "execution_count": null,
      "outputs": []
    },
    {
      "cell_type": "code",
      "source": [],
      "metadata": {
        "id": "TRtKGz3S7j17"
      },
      "execution_count": null,
      "outputs": []
    },
    {
      "cell_type": "code",
      "source": [],
      "metadata": {
        "id": "lhK4SF1A7j40"
      },
      "execution_count": null,
      "outputs": []
    },
    {
      "cell_type": "code",
      "source": [],
      "metadata": {
        "id": "cJ7GZxgK7j7l"
      },
      "execution_count": null,
      "outputs": []
    }
  ]
}